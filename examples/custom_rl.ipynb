{
 "cells": [
  {
   "cell_type": "code",
   "execution_count": 1,
   "metadata": {},
   "outputs": [],
   "source": [
    "pwd = %pwd\n",
    "\n",
    "import os, sys\n",
    "sys.path.insert(0, os.path.join(pwd, \"../\"))\n"
   ]
  },
  {
   "cell_type": "markdown",
   "metadata": {},
   "source": [
    "#\n",
    "\n",
    "-------\n",
    "\n",
    "自作の強化学習アルゴリズムを作成するには以下のクラスを定義します。  \n",
    "  \n",
    "RLConfig  \n",
    "RLRemoteMemory  \n",
    "RLParameter  \n",
    "RLTrainer  \n",
    "RLWorker  \n",
    "\n",
    "ここでは一番簡単なテーブル型のQ学習を自作してみます。"
   ]
  },
  {
   "cell_type": "code",
   "execution_count": 2,
   "metadata": {},
   "outputs": [],
   "source": [
    "from typing import Any, List, Tuple, cast\n"
   ]
  },
  {
   "cell_type": "markdown",
   "metadata": {},
   "source": [
    "# RLConfig\n",
    "\n",
    "---\n",
    "強化学習アルゴリズムの種類やハイパーパラメータ等を管理するクラスです。  \n",
    "RLConfigを継承して作成してもいいですが、強化学習の種類によるインタフェースも提供しています。  \n",
    "'srl.rl.algorithms'"
   ]
  },
  {
   "cell_type": "code",
   "execution_count": 3,
   "metadata": {},
   "outputs": [],
   "source": [
    "from dataclasses import dataclass\n",
    "from srl.base.rl.algorithms.table import TableConfig\n",
    "\n",
    "@dataclass\n",
    "class MyConfig(TableConfig):\n",
    "    \n",
    "    # ハイパーパラメータ\n",
    "    epsilon: float = 0.1\n",
    "    test_epsilon: float = 0\n",
    "    gamma: float = 0.9\n",
    "    lr: float = 0.1\n",
    "\n",
    "    # 名前だけユニークなものを指定\n",
    "    @staticmethod\n",
    "    def getName() -> str:\n",
    "        return \"MyRL\"\n"
   ]
  },
  {
   "cell_type": "markdown",
   "metadata": {},
   "source": [
    "# RemoteMemory\n",
    "\n",
    "---\n",
    "Workerが取得した情報(経験)をTrainerに渡す役割を持っているクラスです。  \n",
    "分散学習では multiprocessing のサーバプロセス(Manager)になります。  \n",
    "ですので、変数へのアクセスができなくなる点だけ制約があります。（全て関数経由でやり取りする必要があります）  \n",
    "  "
   ]
  },
  {
   "cell_type": "code",
   "execution_count": 4,
   "metadata": {},
   "outputs": [],
   "source": [
    "from srl.base.rl.base import RLRemoteMemory\n",
    "\n",
    "class MyRemoteMemory(RLRemoteMemory):\n",
    "\n",
    "    # init の引数は親クラスにそのまま渡します。\n",
    "    def __init__(self, *args):\n",
    "        super().__init__(*args)\n",
    "        # self.config は上で定義した MyConfig が入っています\n",
    "        self.config = cast(MyConfig, self.config)\n",
    "\n",
    "        # 経験を一時的に保存する用\n",
    "        self.buffer = []\n",
    "\n",
    "    # (abstractmethod) メモリに保存されている数を返す\n",
    "    def length(self) -> int:\n",
    "        return len(self.buffer)\n",
    "\n",
    "    # (abstractmethod) restore/backupで復元できるように作成\n",
    "    def restore(self, data: Any) -> None:\n",
    "        self.buffer = data\n",
    "\n",
    "    def backup(self):\n",
    "        return self.buffer\n",
    "\n",
    "    # --- 以下は独自に定義している関数です\n",
    "\n",
    "    def add(self, batch: Any) -> None:\n",
    "        self.buffer.append(batch)\n",
    "\n",
    "    def sample(self):\n",
    "        buffer = self.buffer\n",
    "        self.buffer = []\n",
    "        return buffer\n"
   ]
  },
  {
   "cell_type": "markdown",
   "metadata": {},
   "source": [
    "またよくあるクラスは 'srl.rl.remote_memoty' に定義しています。  \n",
    "経験を順番通りに取り出す SequenceRemoteMemory を使う場合は以下です。  \n"
   ]
  },
  {
   "cell_type": "code",
   "execution_count": 5,
   "metadata": {},
   "outputs": [],
   "source": [
    "from srl.rl.remote_memory.sequence_memory import SequenceRemoteMemory\n",
    "\n",
    "class MyRemoteMemory(SequenceRemoteMemory):\n",
    "    pass\n"
   ]
  },
  {
   "cell_type": "markdown",
   "metadata": {},
   "source": [
    "# RLParameter\n",
    "\n",
    "---\n",
    "学習する/したパラメータを管理するクラスです。  \n",
    "ある意味強化学習の本体でもあります。  \n"
   ]
  },
  {
   "cell_type": "code",
   "execution_count": 6,
   "metadata": {},
   "outputs": [],
   "source": [
    "import json\n",
    "from srl.base.rl.base import RLParameter\n",
    "\n",
    "import numpy as np\n",
    "\n",
    "class MyParameter(RLParameter):\n",
    "\n",
    "    # init の引数は親クラスにそのまま渡します。\n",
    "    def __init__(self, *args):\n",
    "        super().__init__(*args)\n",
    "        # self.config は上で定義した MyConfig が入っています\n",
    "        self.config = cast(MyConfig, self.config)\n",
    "\n",
    "        # Q学習用のテーブル\n",
    "        self.Q = {}\n",
    "\n",
    "    # (abstractmethod) restore/backupでQテーブルを復元できるように作成\n",
    "    def restore(self, data: Any) -> None:\n",
    "        self.Q = json.loads(data)\n",
    "\n",
    "    def backup(self):\n",
    "        return json.dumps(self.Q)\n",
    "\n",
    "    # Q値を取得する関数\n",
    "    def get_action_values(self, state: np.ndarray, invalid_actions, to_str: bool = True):\n",
    "        if to_str:\n",
    "            state = str(state.tolist())\n",
    "        if state not in self.Q:\n",
    "            self.Q[state] = [-np.inf if a in invalid_actions else 0 for a in range(self.config.nb_actions)]\n",
    "        return self.Q[state]\n"
   ]
  },
  {
   "cell_type": "markdown",
   "metadata": {},
   "source": [
    "# RLWorker\n",
    "\n",
    "---\n",
    "経験を収集するクラスです。  \n",
    "実際に環境と連携して動作する部分にもなります。  \n",
    "役割は、Parameterを参照してアクションを決める事と、経験をMemoryに送信する事です。  \n",
    "\n",
    "RLWorkerをそのまま継承しても問題ありませんが、  \n",
    "作成するアルゴリズムによりインタフェースが変わるので、  \n",
    "アルゴリズムに合わせたクラスを継承しても問題ありません。  \n"
   ]
  },
  {
   "cell_type": "code",
   "execution_count": 7,
   "metadata": {},
   "outputs": [],
   "source": [
    "import random\n",
    "from srl.base.rl.algorithms.table import TableWorker\n",
    "from srl.base.env.env_for_rl import EnvForRL\n",
    "\n",
    "class MyWorker(TableWorker):\n",
    "\n",
    "    # init の引数は親クラスにそのまま渡します。\n",
    "    def __init__(self, *args):\n",
    "        super().__init__(*args)\n",
    "\n",
    "        # 上で定義した config,parameter,remote_memory が入ります\n",
    "        self.config = cast(MyConfig, self.config)\n",
    "        self.parameter = cast(MyParameter, self.parameter)\n",
    "        self.remote_memory = cast(MyRemoteMemory, self.remote_memory)\n",
    "\n",
    "    # エピソードの最初に呼ばれる関数\n",
    "    # state: 環境の初期状態が入っています\n",
    "    # invalid_actions: 有効でないアクションのリストです\n",
    "    def call_on_reset(self, state: np.ndarray, invalid_actions: List[int]) -> None:\n",
    "        if self.training:\n",
    "            self.epsilon = self.config.epsilon\n",
    "        else:\n",
    "            self.epsilon = self.config.test_epsilon\n",
    "\n",
    "    # 戦略部分です。アクションを返します。\n",
    "    # state: 環境の状態が入っています\n",
    "    # invalid_actions: 有効でないアクションのリストです\n",
    "    # 戻り値は2つとり、1番目は環境に渡すアクション、2番目はon_stepに渡されるアクションになります\n",
    "    def call_policy(self, state: np.ndarray, invalid_actions: List[int]) -> Tuple[int, Any]:\n",
    "\n",
    "        if random.random() < self.epsilon:\n",
    "            # epsilonより低いならランダムに移動\n",
    "            action = random.choice([a for a in range(self.config.nb_actions) if a not in invalid_actions])\n",
    "        else:\n",
    "            q = self.parameter.get_action_values(state, invalid_actions)\n",
    "            q = np.asarray(q)\n",
    "\n",
    "            # 最大値を選ぶ（複数あればランダム）\n",
    "            action = random.choice(np.where(q == q.max())[0])\n",
    "\n",
    "        return action, action\n",
    "\n",
    "    # 1step毎に呼ばれる関数です\n",
    "    # state     : アクション実行前の状態\n",
    "    # action    : policyの2番目のアクション\n",
    "    # next_state: アクション実行後の状態\n",
    "    # reweard   : アクション実行後の報酬\n",
    "    # done      : アクション実行後の終了状態\n",
    "    # invalid_actions     : アクション実行前の有効でないアクションのリスト\n",
    "    # next_invalid_actions: アクション実行後の有効でないアクションのリスト\n",
    "    def call_on_step(\n",
    "        self,\n",
    "        state: np.ndarray,\n",
    "        action: int,\n",
    "        next_state: np.ndarray,\n",
    "        reward: float,\n",
    "        done: bool,\n",
    "        invalid_actions: List[int],\n",
    "        next_invalid_actions: List[int],\n",
    "    ):\n",
    "        if not self.training:\n",
    "            return {}\n",
    "        \n",
    "        batch = {\n",
    "            \"state\": str(state.tolist()),\n",
    "            \"next_state\": str(next_state.tolist()),\n",
    "            \"action\": action,\n",
    "            \"reward\": reward,\n",
    "            \"done\": done,\n",
    "            \"invalid_actions\": invalid_actions,\n",
    "            \"next_invalid_actions\": next_invalid_actions,\n",
    "        }\n",
    "        self.remote_memory.add(batch)\n",
    "        return {}\n",
    "\n",
    "    # 状態における強化学習の可視化用です。\n",
    "    # 今回ですと、Qテーブルを表示しています。\n",
    "    def render(self, state: np.ndarray, invalid_actions: List[int], env: EnvForRL) -> None:\n",
    "        q = self.parameter.get_action_values(state, invalid_actions)\n",
    "        maxa = np.argmax(q)\n",
    "        for a in range(self.config.nb_actions):\n",
    "            if a == maxa:\n",
    "                s = \"*\"\n",
    "            else:\n",
    "                s = \" \"\n",
    "            s += f\"{env.action_to_str(a)}: {q[a]:7.5f}\"\n",
    "            print(s)\n"
   ]
  },
  {
   "cell_type": "markdown",
   "metadata": {},
   "source": [
    "# RLTrainer\n",
    "\n",
    "---\n",
    "学習を定義する部分です。  \n",
    "RemoteMemory から経験を受け取ってParameterを更新します。  \n"
   ]
  },
  {
   "cell_type": "code",
   "execution_count": 8,
   "metadata": {},
   "outputs": [],
   "source": [
    "from srl.base.rl.base import RLTrainer\n",
    "\n",
    "class MyTrainer(RLTrainer):\n",
    "\n",
    "    # init の引数は親クラスにそのまま渡します。\n",
    "    def __init__(self, *args):\n",
    "        super().__init__(*args)\n",
    "\n",
    "        # 上で定義した config,parameter,memory が入ります\n",
    "        self.config = cast(MyConfig, self.config)\n",
    "        self.parameter = cast(MyParameter, self.parameter)\n",
    "        self.remote_memory = cast(MyRemoteMemory, self.remote_memory)\n",
    "\n",
    "        self.train_count = 0\n",
    "\n",
    "    # (abstractmethod) 学習回数を返します\n",
    "    def get_train_count(self):\n",
    "        return self.train_count\n",
    "\n",
    "    # (abstractmethod)\n",
    "    def train(self):\n",
    "\n",
    "        # memoryから経験を取得する\n",
    "        batchs = self.remote_memory.sample()\n",
    "        td_error = 0\n",
    "        for batch in batchs:\n",
    "            # 各batch毎にQテーブルを更新する\n",
    "\n",
    "            s = batch[\"state\"]\n",
    "            n_s = batch[\"next_state\"]\n",
    "            action = batch[\"action\"]\n",
    "            reward = batch[\"reward\"]\n",
    "            done = batch[\"done\"]\n",
    "            invalid_actions = batch[\"invalid_actions\"]\n",
    "            next_invalid_actions = batch[\"next_invalid_actions\"]\n",
    "\n",
    "            q = self.parameter.get_action_values(s, invalid_actions, False)\n",
    "            n_q = self.parameter.get_action_values(n_s, next_invalid_actions, False)\n",
    "\n",
    "            if done:\n",
    "                target_q = reward\n",
    "            else:\n",
    "                target_q = reward + self.config.gamma * max(n_q)\n",
    "\n",
    "            td_error = target_q - q[action]\n",
    "            q[action] += self.config.lr * td_error\n",
    "\n",
    "            td_error += td_error\n",
    "            self.train_count += 1\n",
    "\n",
    "        if len(batchs) > 0:\n",
    "            td_error /= len(batchs)\n",
    "        \n",
    "        # 学習結果の情報を返す\n",
    "        return {\n",
    "            \"Q\": len(self.parameter.Q),\n",
    "            \"td_error\": td_error,\n",
    "        }\n"
   ]
  },
  {
   "cell_type": "markdown",
   "metadata": {},
   "source": [
    "# 登録"
   ]
  },
  {
   "cell_type": "markdown",
   "metadata": {},
   "source": [
    "最後にこれらのクラスを登録します。"
   ]
  },
  {
   "cell_type": "code",
   "execution_count": 9,
   "metadata": {},
   "outputs": [],
   "source": [
    "from srl.base.rl.registration import register\n",
    "register(\n",
    "    MyConfig,\n",
    "    __name__ + \":MyRemoteMemory\",\n",
    "    __name__ + \":MyParameter\",\n",
    "    __name__ + \":MyTrainer\",\n",
    "    __name__ + \":MyWorker\",\n",
    ")\n"
   ]
  },
  {
   "cell_type": "markdown",
   "metadata": {},
   "source": [
    "実行"
   ]
  },
  {
   "cell_type": "code",
   "execution_count": 10,
   "metadata": {},
   "outputs": [
    {
     "name": "stdout",
     "output_type": "stream",
     "text": [
      "### env: Grid, max episodes: 10000, max steps: -1, timeout:  -1.00s\n",
      "20:43:43   5.00s    7054ep   52990tr   1.65s(remain), -2.720 0.689 0.840 reward, 7.5 step, 0.00s/ep, 0.0000s/tr,        0 mem|Q 10.998|td_error 0.017\n",
      "20:43:46   5.00s   10000ep   75649tr   0.00s(remain), -2.360 0.678 0.840 reward, 7.7 step, 0.00s/ep, 0.0000s/tr,        0 mem|Q 11.000|td_error 0.014\n"
     ]
    }
   ],
   "source": [
    "from srl.runner import sequence\n",
    "from srl.runner.callbacks import PrintProgress\n",
    "\n",
    "config = sequence.Config(\n",
    "    env_name=\"Grid\",\n",
    "    rl_config=MyConfig(),\n",
    ")\n",
    "\n",
    "# --- train\n",
    "config.set_play_config(max_episodes=10000, training=True, callbacks=[PrintProgress()])\n",
    "parameter, remote_memory = sequence.train(config)\n",
    "\n"
   ]
  },
  {
   "cell_type": "code",
   "execution_count": 11,
   "metadata": {},
   "outputs": [
    {
     "name": "stdout",
     "output_type": "stream",
     "text": [
      "100エピソードの平均結果 0.7724000000000001\n"
     ]
    }
   ],
   "source": [
    "config.set_play_config(max_episodes=100)\n",
    "rewards, _, _ = sequence.play(config, parameter)\n",
    "print(\"100エピソードの平均結果\", np.mean(rewards))\n"
   ]
  },
  {
   "cell_type": "code",
   "execution_count": 12,
   "metadata": {},
   "outputs": [
    {
     "name": "stdout",
     "output_type": "stream",
     "text": [
      "### 0\n",
      "OOOOOO\n",
      "O   GO\n",
      "O O XO\n",
      "OP   O\n",
      "OOOOOO\n",
      "\n",
      " ←: 0.30370\n",
      " ↓: 0.27639\n",
      " →: 0.22741\n",
      "*↑: 0.37876\n",
      "### 1, done: False\n",
      "player 0, action 3, reward: -0.04\n",
      "OOOOOO\n",
      "O   GO\n",
      "OPO XO\n",
      "O    O\n",
      "OOOOOO\n",
      "\n",
      "env_info  : {}\n",
      "work_info 0: {}\n",
      "train_info: None\n",
      " ←: 0.40603\n",
      " ↓: 0.31480\n",
      " →: 0.40661\n",
      "*↑: 0.51889\n",
      "### 2, done: False\n",
      "player 0, action 3, reward: -0.04\n",
      "OOOOOO\n",
      "OP  GO\n",
      "O O XO\n",
      "O    O\n",
      "OOOOOO\n",
      "\n",
      "env_info  : {}\n",
      "work_info 0: {}\n",
      "train_info: None\n",
      " ←: 0.50961\n",
      " ↓: 0.45594\n",
      "*→: 0.63925\n",
      " ↑: 0.53670\n",
      "### 3, done: False\n",
      "player 0, action 2, reward: -0.04\n",
      "OOOOOO\n",
      "O P GO\n",
      "O O XO\n",
      "O    O\n",
      "OOOOOO\n",
      "\n",
      "env_info  : {}\n",
      "work_info 0: {}\n",
      "train_info: None\n",
      " ←: 0.53697\n",
      " ↓: 0.65462\n",
      "*→: 0.75578\n",
      " ↑: 0.64757\n",
      "### 4, done: False\n",
      "player 0, action 2, reward: -0.04\n",
      "OOOOOO\n",
      "O  PGO\n",
      "O O XO\n",
      "O    O\n",
      "OOOOOO\n",
      "\n",
      "env_info  : {}\n",
      "work_info 0: {}\n",
      "train_info: None\n",
      " ←: 0.64625\n",
      " ↓: 0.51915\n",
      "*→: 0.92625\n",
      " ↑: 0.77844\n",
      "### 5, done: False\n",
      "player 0, action 2, reward: -0.04\n",
      "OOOOOO\n",
      "O  PGO\n",
      "O O XO\n",
      "O    O\n",
      "OOOOOO\n",
      "\n",
      "env_info  : {}\n",
      "work_info 0: {}\n",
      "train_info: None\n",
      " ←: 0.64625\n",
      " ↓: 0.51915\n",
      "*→: 0.92625\n",
      " ↑: 0.77844\n",
      "### 6, done: True\n",
      "player 0, action 2, reward: 1.0\n",
      "OOOOOO\n",
      "O   PO\n",
      "O O XO\n",
      "O    O\n",
      "OOOOOO\n",
      "\n",
      "env_info  : {}\n",
      "work_info 0: {}\n",
      "train_info: None\n"
     ]
    },
    {
     "data": {
      "text/plain": [
       "[0.8]"
      ]
     },
     "execution_count": 12,
     "metadata": {},
     "output_type": "execute_result"
    }
   ],
   "source": [
    "from srl.runner.callbacks import Rendering\n",
    "\n",
    "config.set_play_config(max_episodes=1, callbacks=[Rendering(step_stop=False)])\n",
    "rewards, _, _ = sequence.play(config, parameter)\n",
    "rewards\n"
   ]
  },
  {
   "cell_type": "code",
   "execution_count": null,
   "metadata": {},
   "outputs": [],
   "source": []
  }
 ],
 "metadata": {
  "interpreter": {
   "hash": "ea4fe4d9f7a0ac0973d73e7eb814bdfb578c3b05679fd701fb5853be0632daec"
  },
  "kernelspec": {
   "display_name": "Python 3.10.1 64-bit ('biz310': venv)",
   "language": "python",
   "name": "python3"
  },
  "language_info": {
   "codemirror_mode": {
    "name": "ipython",
    "version": 3
   },
   "file_extension": ".py",
   "mimetype": "text/x-python",
   "name": "python",
   "nbconvert_exporter": "python",
   "pygments_lexer": "ipython3",
   "version": "3.9.10"
  },
  "orig_nbformat": 4
 },
 "nbformat": 4,
 "nbformat_minor": 2
}
